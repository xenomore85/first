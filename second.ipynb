{
 "cells": [
  {
   "cell_type": "markdown",
   "metadata": {},
   "source": [
    "## First Python hello script by 프셰므"
   ]
  },
  {
   "cell_type": "code",
   "execution_count": 13,
   "metadata": {},
   "outputs": [
    {
     "name": "stdout",
     "output_type": "stream",
     "text": [
      "Hello pythonssssssssssssssss\n"
     ]
    }
   ],
   "source": [
    "print('Hello pythonssssssssssssssss')"
   ]
  },
  {
   "cell_type": "markdown",
   "metadata": {},
   "source": [
    "## Asci Face by ChatGPT and 프셰므"
   ]
  },
  {
   "cell_type": "code",
   "execution_count": 14,
   "metadata": {},
   "outputs": [
    {
     "name": "stdout",
     "output_type": "stream",
     "text": [
      "   #####   \n",
      "  #     #  \n",
      " #       # \n",
      "#  o   o  #\n",
      "#         #\n",
      "#         #\n",
      "#         #\n",
      "#  -----  #\n",
      " #       # \n",
      "  #     #  \n",
      "   #####   \n"
     ]
    }
   ],
   "source": [
    "rows = 11  # Size of the face (odd number works best)\n",
    "\n",
    "for i in range(rows):\n",
    "    for j in range(rows):\n",
    "        # Distance from the center to approximate a circle\n",
    "        center = rows // 2\n",
    "        distance = ((i - center)**2 + (j - center)**2)**0.5\n",
    "\n",
    "        # Draw the outer circle\n",
    "        if 4.5 <= distance <= 5.5:\n",
    "            print(\"#\", end=\"\")\n",
    "        # Draw the eyes\n",
    "        elif (i == center - 2 and j == center - 2) or (i == center - 2 and j == center + 2):\n",
    "            print(\"o\", end=\"\")\n",
    "        # Draw the mouth\n",
    "        elif i == center + 2 and center - 2 <= j <= center + 2:\n",
    "            print(\"-\", end=\"\")\n",
    "        # Fill the inside with spaces\n",
    "        else:\n",
    "            print(\" \", end=\"\")\n",
    "    print()  # Move to the next row\n"
   ]
  },
  {
   "cell_type": "code",
   "execution_count": 15,
   "metadata": {},
   "outputs": [
    {
     "ename": "IndentationError",
     "evalue": "unexpected indent (2961344412.py, line 2)",
     "output_type": "error",
     "traceback": [
      "\u001b[0;36m  Cell \u001b[0;32mIn[15], line 2\u001b[0;36m\u001b[0m\n\u001b[0;31m    print('hahahaha')\u001b[0m\n\u001b[0m    ^\u001b[0m\n\u001b[0;31mIndentationError\u001b[0m\u001b[0;31m:\u001b[0m unexpected indent\n"
     ]
    }
   ],
   "source": [
    "print('Huhuhu')\n",
    "print('hahahaha')"
   ]
  }
 ],
 "metadata": {
  "kernelspec": {
   "display_name": "Python 3",
   "language": "python",
   "name": "python3"
  },
  "language_info": {
   "codemirror_mode": {
    "name": "ipython",
    "version": 3
   },
   "file_extension": ".py",
   "mimetype": "text/x-python",
   "name": "python",
   "nbconvert_exporter": "python",
   "pygments_lexer": "ipython3",
   "version": "3.12.1"
  }
 },
 "nbformat": 4,
 "nbformat_minor": 2
}
